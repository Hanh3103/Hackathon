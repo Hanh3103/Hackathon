{
 "cells": [
  {
   "cell_type": "code",
   "execution_count": 1,
   "metadata": {
    "id": "3BUMBhzRuYnj"
   },
   "outputs": [],
   "source": [
    "import os\n",
    "import pandas as pd\n",
    "import numpy as np\n",
    "from sklearn.preprocessing import StandardScaler, MinMaxScaler\n",
    "from sklearn.decomposition import PCA\n",
    "from sklearn.svm import SVC, LinearSVC\n",
    "from sklearn.model_selection import train_test_split, cross_val_score, GridSearchCV\n",
    "import sklearn.metrics as metrics\n",
    "from sklearn.metrics import confusion_matrix, classification_report, accuracy_score, precision_score, recall_score, f1_score\n",
    "import matplotlib.pyplot as plt\n",
    "from sklearn.feature_selection import SelectKBest, chi2, RFE\n",
    "from sklearn.multiclass import OneVsRestClassifier"
   ]
  },
  {
   "cell_type": "code",
   "execution_count": 2,
   "metadata": {
    "id": "xYMcoxr7ucSA"
   },
   "outputs": [],
   "source": [
    "# Read in csv file\n",
    "df = pd.read_csv(\"../ModelKeras/train_combined_Species.csv\")"
   ]
  },
  {
   "cell_type": "code",
   "execution_count": 3,
   "metadata": {
    "id": "y650qT0JwYvJ"
   },
   "outputs": [],
   "source": [
    "# Drop the index column\n",
    "df.drop(df.columns[0], axis=1, inplace=True)\n",
    "df = df.fillna(0).drop_duplicates()\n",
    "inputvalues = df.drop(['label'], axis=1)\n",
    "outputvalues = df['label']\n",
    "X, y = inputvalues.values, outputvalues.values\n",
    "X = X.astype('float32')"
   ]
  },
  {
   "cell_type": "code",
   "execution_count": 4,
   "metadata": {
    "colab": {
     "base_uri": "https://localhost:8080/",
     "height": 505
    },
    "id": "xbDzLYiowfGD",
    "outputId": "8e0cb1e6-5e63-47e4-97e4-8a2ace959355"
   },
   "outputs": [
    {
     "data": {
      "text/plain": "      Bacteria;Firmicutes;Clostridia;Oscillospirales;Oscillospiraceae;UCG-005;uncultured bacterium  \\\n0                                                   0.0                                              \n1                                                   0.0                                              \n2                                                   0.0                                              \n3                                                   0.0                                              \n4                                                   0.0                                              \n...                                                 ...                                              \n1001                                                0.0                                              \n1002                                                0.0                                              \n1003                                                0.0                                              \n1004                                                0.0                                              \n1005                                                0.0                                              \n\n      Bacteria;Firmicutes;Clostridia;Lachnospirales;Lachnospiraceae;Blautia;uncultured bacterium  \\\n0                                                   0.0                                            \n1                                                   0.0                                            \n2                                                   0.0                                            \n3                                                   0.0                                            \n4                                                   0.0                                            \n...                                                 ...                                            \n1001                                                0.0                                            \n1002                                                0.0                                            \n1003                                                0.0                                            \n1004                                                0.0                                            \n1005                                                0.0                                            \n\n      Bacteria;Firmicutes;Clostridia;Peptococcales;Peptococcaceae;uncultured;uncultured organism  \\\n0                                                   0.0                                            \n1                                                   0.0                                            \n2                                                   0.0                                            \n3                                                   0.0                                            \n4                                                   0.0                                            \n...                                                 ...                                            \n1001                                                0.0                                            \n1002                                                0.0                                            \n1003                                                0.0                                            \n1004                                                0.0                                            \n1005                                                0.0                                            \n\n      Bacteria;Firmicutes;Clostridia;Lachnospirales;Lachnospiraceae;uncultured;uncultured bacterium  \\\n0                                                   0.0                                               \n1                                                   0.0                                               \n2                                                   0.0                                               \n3                                                   0.0                                               \n4                                                   0.0                                               \n...                                                 ...                                               \n1001                                                0.0                                               \n1002                                                0.0                                               \n1003                                                0.0                                               \n1004                                                0.0                                               \n1005                                                0.0                                               \n\n      Bacteria;Firmicutes;Clostridia;Oscillospirales;Oscillospiraceae;Colidextribacter;uncultured Flavonifractor sp.  \\\n0                                                   0.0                                                                \n1                                                   0.0                                                                \n2                                                   0.0                                                                \n3                                                   0.0                                                                \n4                                                   0.0                                                                \n...                                                 ...                                                                \n1001                                                0.0                                                                \n1002                                                0.0                                                                \n1003                                                0.0                                                                \n1004                                                0.0                                                                \n1005                                                0.0                                                                \n\n      Bacteria;Firmicutes;Clostridia;Oscillospirales;Oscillospiraceae;UCG-002;uncultured bacterium  \\\n0                                                   0.0                                              \n1                                                   0.0                                              \n2                                                   0.0                                              \n3                                                   0.0                                              \n4                                                   0.0                                              \n...                                                 ...                                              \n1001                                                0.0                                              \n1002                                                0.0                                              \n1003                                                0.0                                              \n1004                                                0.0                                              \n1005                                                0.0                                              \n\n      Bacteria;Firmicutes;Clostridia;Lachnospirales;Lachnospiraceae;uncultured;uncultured bacterium.1  \\\n0                                                   0.0                                                 \n1                                                   0.0                                                 \n2                                                   0.0                                                 \n3                                                   0.0                                                 \n4                                                   0.0                                                 \n...                                                 ...                                                 \n1001                                                0.0                                                 \n1002                                                0.0                                                 \n1003                                                0.0                                                 \n1004                                                0.0                                                 \n1005                                                0.0                                                 \n\n      Bacteria;Firmicutes;Clostridia;Oscillospirales;Oscillospiraceae;Colidextribacter;uncultured organism  \\\n0                                                   0.0                                                      \n1                                                   0.0                                                      \n2                                                   0.0                                                      \n3                                                   0.0                                                      \n4                                                   0.0                                                      \n...                                                 ...                                                      \n1001                                                0.0                                                      \n1002                                                0.0                                                      \n1003                                                0.0                                                      \n1004                                                0.0                                                      \n1005                                                0.0                                                      \n\n      Bacteria;Firmicutes;Clostridia;Lachnospirales;Lachnospiraceae;uncultured;uncultured organism  \\\n0                                                   0.0                                              \n1                                                   0.0                                              \n2                                                   0.0                                              \n3                                                   0.0                                              \n4                                                   0.0                                              \n...                                                 ...                                              \n1001                                                0.0                                              \n1002                                                0.0                                              \n1003                                                0.0                                              \n1004                                                0.0                                              \n1005                                                0.0                                              \n\n      Bacteria;Firmicutes;Clostridia;Lachnospirales;Lachnospiraceae;Frisingicoccus;uncultured bacterium  \\\n0                                                   0.0                                                   \n1                                                   0.0                                                   \n2                                                   0.0                                                   \n3                                                   0.0                                                   \n4                                                   0.0                                                   \n...                                                 ...                                                   \n1001                                                0.0                                                   \n1002                                                0.0                                                   \n1003                                                0.0                                                   \n1004                                                0.0                                                   \n1005                                                0.0                                                   \n\n      ...  \\\n0     ...   \n1     ...   \n2     ...   \n3     ...   \n4     ...   \n...   ...   \n1001  ...   \n1002  ...   \n1003  ...   \n1004  ...   \n1005  ...   \n\n      Bacteria;Firmicutes;Clostridia;Lachnospirales;Lachnospiraceae;[Eubacterium] ventriosum group;uncultured bacterium.45  \\\n0                                                   0.0                                                                      \n1                                                   0.0                                                                      \n2                                                   0.0                                                                      \n3                                                   0.0                                                                      \n4                                                   0.0                                                                      \n...                                                 ...                                                                      \n1001                                                0.0                                                                      \n1002                                                0.0                                                                      \n1003                                                0.0                                                                      \n1004                                                0.0                                                                      \n1005                                                0.0                                                                      \n\n      Bacteria;Bacteroidota;Bacteroidia;Bacteroidales;Prevotellaceae;Prevotella;uncultured bacterium.372  \\\n0                                                   0.0                                                    \n1                                                   0.0                                                    \n2                                                   0.0                                                    \n3                                                   0.0                                                    \n4                                                   0.0                                                    \n...                                                 ...                                                    \n1001                                                0.0                                                    \n1002                                                0.0                                                    \n1003                                                0.0                                                    \n1004                                                0.0                                                    \n1005                                                0.0                                                    \n\n      Bacteria;Firmicutes;Clostridia;Clostridia UCG-014;uncultured bacterium.503  \\\n0                                                   0.0                            \n1                                                   0.0                            \n2                                                   0.0                            \n3                                                   0.0                            \n4                                                   0.0                            \n...                                                 ...                            \n1001                                                0.0                            \n1002                                                0.0                            \n1003                                                0.0                            \n1004                                                0.0                            \n1005                                                0.0                            \n\n      Bacteria;Firmicutes;Clostridia;Lachnospirales;Lachnospiraceae;Anaerosporobacter;uncultured bacterium.10  \\\n0                                                   0.0                                                         \n1                                                   0.0                                                         \n2                                                   0.0                                                         \n3                                                   0.0                                                         \n4                                                   0.0                                                         \n...                                                 ...                                                         \n1001                                                0.0                                                         \n1002                                                0.0                                                         \n1003                                                0.0                                                         \n1004                                                0.0                                                         \n1005                                                0.0                                                         \n\n      Bacteria;Actinobacteriota;Coriobacteriia;Coriobacteriales;Eggerthellaceae;Senegalimassilia;uncultured bacterium.75  \\\n0                                                   0.0                                                                    \n1                                                   0.0                                                                    \n2                                                   0.0                                                                    \n3                                                   0.0                                                                    \n4                                                   0.0                                                                    \n...                                                 ...                                                                    \n1001                                                0.0                                                                    \n1002                                                0.0                                                                    \n1003                                                0.0                                                                    \n1004                                                0.0                                                                    \n1005                                                0.0                                                                    \n\n      Bacteria;Firmicutes;Clostridia;Oscillospirales;Oscillospiraceae;Colidextribacter;uncultured organism.14  \\\n0                                                   0.0                                                         \n1                                                   0.0                                                         \n2                                                   0.0                                                         \n3                                                   0.0                                                         \n4                                                   0.0                                                         \n...                                                 ...                                                         \n1001                                                0.0                                                         \n1002                                                0.0                                                         \n1003                                                0.0                                                         \n1004                                                0.0                                                         \n1005                                                0.0                                                         \n\n      Bacteria;Firmicutes;Bacilli;RF39;uncultured bacterium.269  \\\n0                                                   0.0           \n1                                                   0.0           \n2                                                   0.0           \n3                                                   0.0           \n4                                                   0.0           \n...                                                 ...           \n1001                                                0.0           \n1002                                                0.0           \n1003                                                5.0           \n1004                                                0.0           \n1005                                                0.0           \n\n      Bacteria;Firmicutes;Clostridia;Lachnospirales;Lachnospiraceae;Roseburia;uncultured bacterium.166  \\\n0                                                   0.0                                                  \n1                                                   0.0                                                  \n2                                                   0.0                                                  \n3                                                   0.0                                                  \n4                                                   0.0                                                  \n...                                                 ...                                                  \n1001                                                0.0                                                  \n1002                                                0.0                                                  \n1003                                                0.0                                                  \n1004                                                0.0                                                  \n1005                                                0.0                                                  \n\n      Bacteria;Firmicutes;Clostridia;Lachnospirales;Lachnospiraceae;[Ruminococcus] gauvreauii group;uncultured bacterium.89  \\\n0                                                   0.0                                                                       \n1                                                   0.0                                                                       \n2                                                   0.0                                                                       \n3                                                   0.0                                                                       \n4                                                   0.0                                                                       \n...                                                 ...                                                                       \n1001                                                0.0                                                                       \n1002                                                0.0                                                                       \n1003                                                0.0                                                                       \n1004                                                0.0                                                                       \n1005                                                0.0                                                                       \n\n      label  \n0         0  \n1         1  \n2         1  \n3         1  \n4         1  \n...     ...  \n1001      1  \n1002      1  \n1003      0  \n1004      0  \n1005      1  \n\n[1006 rows x 17788 columns]",
      "text/html": "<div>\n<style scoped>\n    .dataframe tbody tr th:only-of-type {\n        vertical-align: middle;\n    }\n\n    .dataframe tbody tr th {\n        vertical-align: top;\n    }\n\n    .dataframe thead th {\n        text-align: right;\n    }\n</style>\n<table border=\"1\" class=\"dataframe\">\n  <thead>\n    <tr style=\"text-align: right;\">\n      <th></th>\n      <th>Bacteria;Firmicutes;Clostridia;Oscillospirales;Oscillospiraceae;UCG-005;uncultured bacterium</th>\n      <th>Bacteria;Firmicutes;Clostridia;Lachnospirales;Lachnospiraceae;Blautia;uncultured bacterium</th>\n      <th>Bacteria;Firmicutes;Clostridia;Peptococcales;Peptococcaceae;uncultured;uncultured organism</th>\n      <th>Bacteria;Firmicutes;Clostridia;Lachnospirales;Lachnospiraceae;uncultured;uncultured bacterium</th>\n      <th>Bacteria;Firmicutes;Clostridia;Oscillospirales;Oscillospiraceae;Colidextribacter;uncultured Flavonifractor sp.</th>\n      <th>Bacteria;Firmicutes;Clostridia;Oscillospirales;Oscillospiraceae;UCG-002;uncultured bacterium</th>\n      <th>Bacteria;Firmicutes;Clostridia;Lachnospirales;Lachnospiraceae;uncultured;uncultured bacterium.1</th>\n      <th>Bacteria;Firmicutes;Clostridia;Oscillospirales;Oscillospiraceae;Colidextribacter;uncultured organism</th>\n      <th>Bacteria;Firmicutes;Clostridia;Lachnospirales;Lachnospiraceae;uncultured;uncultured organism</th>\n      <th>Bacteria;Firmicutes;Clostridia;Lachnospirales;Lachnospiraceae;Frisingicoccus;uncultured bacterium</th>\n      <th>...</th>\n      <th>Bacteria;Firmicutes;Clostridia;Lachnospirales;Lachnospiraceae;[Eubacterium] ventriosum group;uncultured bacterium.45</th>\n      <th>Bacteria;Bacteroidota;Bacteroidia;Bacteroidales;Prevotellaceae;Prevotella;uncultured bacterium.372</th>\n      <th>Bacteria;Firmicutes;Clostridia;Clostridia UCG-014;uncultured bacterium.503</th>\n      <th>Bacteria;Firmicutes;Clostridia;Lachnospirales;Lachnospiraceae;Anaerosporobacter;uncultured bacterium.10</th>\n      <th>Bacteria;Actinobacteriota;Coriobacteriia;Coriobacteriales;Eggerthellaceae;Senegalimassilia;uncultured bacterium.75</th>\n      <th>Bacteria;Firmicutes;Clostridia;Oscillospirales;Oscillospiraceae;Colidextribacter;uncultured organism.14</th>\n      <th>Bacteria;Firmicutes;Bacilli;RF39;uncultured bacterium.269</th>\n      <th>Bacteria;Firmicutes;Clostridia;Lachnospirales;Lachnospiraceae;Roseburia;uncultured bacterium.166</th>\n      <th>Bacteria;Firmicutes;Clostridia;Lachnospirales;Lachnospiraceae;[Ruminococcus] gauvreauii group;uncultured bacterium.89</th>\n      <th>label</th>\n    </tr>\n  </thead>\n  <tbody>\n    <tr>\n      <th>0</th>\n      <td>0.0</td>\n      <td>0.0</td>\n      <td>0.0</td>\n      <td>0.0</td>\n      <td>0.0</td>\n      <td>0.0</td>\n      <td>0.0</td>\n      <td>0.0</td>\n      <td>0.0</td>\n      <td>0.0</td>\n      <td>...</td>\n      <td>0.0</td>\n      <td>0.0</td>\n      <td>0.0</td>\n      <td>0.0</td>\n      <td>0.0</td>\n      <td>0.0</td>\n      <td>0.0</td>\n      <td>0.0</td>\n      <td>0.0</td>\n      <td>0</td>\n    </tr>\n    <tr>\n      <th>1</th>\n      <td>0.0</td>\n      <td>0.0</td>\n      <td>0.0</td>\n      <td>0.0</td>\n      <td>0.0</td>\n      <td>0.0</td>\n      <td>0.0</td>\n      <td>0.0</td>\n      <td>0.0</td>\n      <td>0.0</td>\n      <td>...</td>\n      <td>0.0</td>\n      <td>0.0</td>\n      <td>0.0</td>\n      <td>0.0</td>\n      <td>0.0</td>\n      <td>0.0</td>\n      <td>0.0</td>\n      <td>0.0</td>\n      <td>0.0</td>\n      <td>1</td>\n    </tr>\n    <tr>\n      <th>2</th>\n      <td>0.0</td>\n      <td>0.0</td>\n      <td>0.0</td>\n      <td>0.0</td>\n      <td>0.0</td>\n      <td>0.0</td>\n      <td>0.0</td>\n      <td>0.0</td>\n      <td>0.0</td>\n      <td>0.0</td>\n      <td>...</td>\n      <td>0.0</td>\n      <td>0.0</td>\n      <td>0.0</td>\n      <td>0.0</td>\n      <td>0.0</td>\n      <td>0.0</td>\n      <td>0.0</td>\n      <td>0.0</td>\n      <td>0.0</td>\n      <td>1</td>\n    </tr>\n    <tr>\n      <th>3</th>\n      <td>0.0</td>\n      <td>0.0</td>\n      <td>0.0</td>\n      <td>0.0</td>\n      <td>0.0</td>\n      <td>0.0</td>\n      <td>0.0</td>\n      <td>0.0</td>\n      <td>0.0</td>\n      <td>0.0</td>\n      <td>...</td>\n      <td>0.0</td>\n      <td>0.0</td>\n      <td>0.0</td>\n      <td>0.0</td>\n      <td>0.0</td>\n      <td>0.0</td>\n      <td>0.0</td>\n      <td>0.0</td>\n      <td>0.0</td>\n      <td>1</td>\n    </tr>\n    <tr>\n      <th>4</th>\n      <td>0.0</td>\n      <td>0.0</td>\n      <td>0.0</td>\n      <td>0.0</td>\n      <td>0.0</td>\n      <td>0.0</td>\n      <td>0.0</td>\n      <td>0.0</td>\n      <td>0.0</td>\n      <td>0.0</td>\n      <td>...</td>\n      <td>0.0</td>\n      <td>0.0</td>\n      <td>0.0</td>\n      <td>0.0</td>\n      <td>0.0</td>\n      <td>0.0</td>\n      <td>0.0</td>\n      <td>0.0</td>\n      <td>0.0</td>\n      <td>1</td>\n    </tr>\n    <tr>\n      <th>...</th>\n      <td>...</td>\n      <td>...</td>\n      <td>...</td>\n      <td>...</td>\n      <td>...</td>\n      <td>...</td>\n      <td>...</td>\n      <td>...</td>\n      <td>...</td>\n      <td>...</td>\n      <td>...</td>\n      <td>...</td>\n      <td>...</td>\n      <td>...</td>\n      <td>...</td>\n      <td>...</td>\n      <td>...</td>\n      <td>...</td>\n      <td>...</td>\n      <td>...</td>\n      <td>...</td>\n    </tr>\n    <tr>\n      <th>1001</th>\n      <td>0.0</td>\n      <td>0.0</td>\n      <td>0.0</td>\n      <td>0.0</td>\n      <td>0.0</td>\n      <td>0.0</td>\n      <td>0.0</td>\n      <td>0.0</td>\n      <td>0.0</td>\n      <td>0.0</td>\n      <td>...</td>\n      <td>0.0</td>\n      <td>0.0</td>\n      <td>0.0</td>\n      <td>0.0</td>\n      <td>0.0</td>\n      <td>0.0</td>\n      <td>0.0</td>\n      <td>0.0</td>\n      <td>0.0</td>\n      <td>1</td>\n    </tr>\n    <tr>\n      <th>1002</th>\n      <td>0.0</td>\n      <td>0.0</td>\n      <td>0.0</td>\n      <td>0.0</td>\n      <td>0.0</td>\n      <td>0.0</td>\n      <td>0.0</td>\n      <td>0.0</td>\n      <td>0.0</td>\n      <td>0.0</td>\n      <td>...</td>\n      <td>0.0</td>\n      <td>0.0</td>\n      <td>0.0</td>\n      <td>0.0</td>\n      <td>0.0</td>\n      <td>0.0</td>\n      <td>0.0</td>\n      <td>0.0</td>\n      <td>0.0</td>\n      <td>1</td>\n    </tr>\n    <tr>\n      <th>1003</th>\n      <td>0.0</td>\n      <td>0.0</td>\n      <td>0.0</td>\n      <td>0.0</td>\n      <td>0.0</td>\n      <td>0.0</td>\n      <td>0.0</td>\n      <td>0.0</td>\n      <td>0.0</td>\n      <td>0.0</td>\n      <td>...</td>\n      <td>0.0</td>\n      <td>0.0</td>\n      <td>0.0</td>\n      <td>0.0</td>\n      <td>0.0</td>\n      <td>0.0</td>\n      <td>5.0</td>\n      <td>0.0</td>\n      <td>0.0</td>\n      <td>0</td>\n    </tr>\n    <tr>\n      <th>1004</th>\n      <td>0.0</td>\n      <td>0.0</td>\n      <td>0.0</td>\n      <td>0.0</td>\n      <td>0.0</td>\n      <td>0.0</td>\n      <td>0.0</td>\n      <td>0.0</td>\n      <td>0.0</td>\n      <td>0.0</td>\n      <td>...</td>\n      <td>0.0</td>\n      <td>0.0</td>\n      <td>0.0</td>\n      <td>0.0</td>\n      <td>0.0</td>\n      <td>0.0</td>\n      <td>0.0</td>\n      <td>0.0</td>\n      <td>0.0</td>\n      <td>0</td>\n    </tr>\n    <tr>\n      <th>1005</th>\n      <td>0.0</td>\n      <td>0.0</td>\n      <td>0.0</td>\n      <td>0.0</td>\n      <td>0.0</td>\n      <td>0.0</td>\n      <td>0.0</td>\n      <td>0.0</td>\n      <td>0.0</td>\n      <td>0.0</td>\n      <td>...</td>\n      <td>0.0</td>\n      <td>0.0</td>\n      <td>0.0</td>\n      <td>0.0</td>\n      <td>0.0</td>\n      <td>0.0</td>\n      <td>0.0</td>\n      <td>0.0</td>\n      <td>0.0</td>\n      <td>1</td>\n    </tr>\n  </tbody>\n</table>\n<p>1006 rows × 17788 columns</p>\n</div>"
     },
     "metadata": {},
     "output_type": "display_data"
    }
   ],
   "source": [
    "display(df)"
   ]
  },
  {
   "cell_type": "code",
   "execution_count": 5,
   "metadata": {
    "colab": {
     "base_uri": "https://localhost:8080/"
    },
    "id": "e30oRpFGR_xS",
    "outputId": "6771b53f-9cbb-48a6-ecfe-2080f29dd342"
   },
   "outputs": [
    {
     "data": {
      "text/plain": "(1006, 17788)"
     },
     "execution_count": 5,
     "metadata": {},
     "output_type": "execute_result"
    }
   ],
   "source": [
    "df.shape"
   ]
  },
  {
   "cell_type": "markdown",
   "metadata": {
    "id": "Fr-rth9wPFab"
   },
   "source": [
    "# DATA PREPROCESSING"
   ]
  },
  {
   "cell_type": "code",
   "execution_count": 6,
   "metadata": {
    "id": "nyjQvN54u8OR"
   },
   "outputs": [],
   "source": [
    "# Standardize the data to ensure each feature has similar scales\n",
    "scaler = MinMaxScaler()\n",
    "df_scaled = scaler.fit_transform(X)"
   ]
  },
  {
   "cell_type": "markdown",
   "metadata": {
    "id": "1iCh4nmxZcnO"
   },
   "source": [
    "# FEATURE SELECTION\n",
    "\n",
    "\n",
    "\n"
   ]
  },
  {
   "cell_type": "code",
   "execution_count": 6,
   "metadata": {
    "colab": {
     "base_uri": "https://localhost:8080/"
    },
    "id": "bORKXpNeTMye",
    "outputId": "27c2c5d7-7114-409c-e0b6-5192ce68dffd"
   },
   "outputs": [],
   "source": [
    "\n"
   ]
  },
  {
   "cell_type": "markdown",
   "metadata": {
    "id": "NS_DIPcLzITS"
   },
   "source": [
    "# PCA"
   ]
  },
  {
   "cell_type": "code",
   "execution_count": 6,
   "metadata": {
    "id": "9OyMD8ZN40EN"
   },
   "outputs": [],
   "source": []
  },
  {
   "cell_type": "code",
   "execution_count": 7,
   "metadata": {
    "id": "C5OXtoVvzWmI"
   },
   "outputs": [
    {
     "data": {
      "text/plain": "array([[-4.7238553e-03, -1.2684126e-01, -5.0361091e-01, ...,\n        -1.7983320e-01,  2.0341670e-02,  1.3629045e-01],\n       [-6.2149901e-02,  3.6963066e-01,  6.2288004e-01, ...,\n         7.7092254e-01, -3.1486828e+00,  2.7067747e+00],\n       [-4.2649172e-02, -8.5706264e-02, -2.4378175e-01, ...,\n         8.1039540e-02, -1.8604836e-01, -1.2606113e-01],\n       ...,\n       [-3.1370665e-03,  9.0121783e-02,  1.6537242e-01, ...,\n        -2.4991958e-01,  3.5753187e-02, -1.4286962e-01],\n       [-4.8783056e-02, -7.6090835e-02, -1.2562120e-01, ...,\n         3.7049223e-02,  7.5933576e-02,  6.8284512e-02],\n       [-3.5076164e-02, -6.5379225e-02, -6.6299573e-02, ...,\n        -1.2702299e-02, -1.1487282e-01, -1.2772624e-01]], dtype=float32)"
     },
     "execution_count": 7,
     "metadata": {},
     "output_type": "execute_result"
    }
   ],
   "source": [
    "pca = PCA(n_components=19)\n",
    "X_pca = pca.fit_transform(df_scaled)\n",
    "X_pca"
   ]
  },
  {
   "cell_type": "markdown",
   "metadata": {
    "id": "ONeTYpvhZjcd"
   },
   "source": [
    "# SPLIT DATASET"
   ]
  },
  {
   "cell_type": "code",
   "execution_count": 8,
   "metadata": {
    "id": "MWbFZo0P-fey"
   },
   "outputs": [],
   "source": [
    "# Split the dataset into training and test set\n",
    "X_train, X_test, y_train, y_test = train_test_split(X_pca, y, test_size=0.2, random_state=1234)"
   ]
  },
  {
   "cell_type": "markdown",
   "metadata": {
    "id": "tFTlDiqFzhr8"
   },
   "source": [
    "# SVM with GridSearch and CrossValidation"
   ]
  },
  {
   "cell_type": "code",
   "execution_count": 9,
   "metadata": {
    "colab": {
     "base_uri": "https://localhost:8080/"
    },
    "id": "UEDtcsO7kNRC",
    "outputId": "72bcf0bf-c2e3-4a9c-d784-b7e37d743ad4"
   },
   "outputs": [
    {
     "name": "stdout",
     "output_type": "stream",
     "text": [
      "Best parameters found:  {'C': 1, 'gamma': 0.1, 'kernel': 'rbf'}\n"
     ]
    }
   ],
   "source": [
    "# Define the hyperparameter grid for SVM\n",
    "param_grid = {'C': [0.1, 1, 10, 100, 1000],  \n",
    "              'gamma': [1, 0.1, 0.01, 0.001, 0.0001], \n",
    "              'kernel': ['linear', 'rbf', 'poly', 'sigmoid']}\n",
    "\n",
    "# Create an instance of SVC\n",
    "svm = SVC()\n",
    "\n",
    "# Create a GridSearchCV object with 10-fold cross-validation\n",
    "grid_search = GridSearchCV(estimator=svm, param_grid=param_grid, cv=10)\n",
    "grid_search.fit(X_train, y_train)\n",
    "\n",
    "# Print the best hyperparameters\n",
    "print(\"Best parameters found: \",grid_search.best_params_)\n",
    "\n",
    "# Use the best hyperparameters to fit a new SVC model\n",
    "svm = SVC(C=grid_search.best_params_['C'], \n",
    "          gamma=grid_search.best_params_['gamma'], \n",
    "          kernel=grid_search.best_params_['kernel'])\n",
    "\n",
    "svm.fit(X_train, y_train)\n",
    "\n",
    "# Make predictions using the best model obtained from Grid Search\n",
    "y_pred = grid_search.best_estimator_.predict(X_test)"
   ]
  },
  {
   "cell_type": "markdown",
   "metadata": {
    "id": "rDz5FcFLzsVd"
   },
   "source": [
    "# EVALUATE"
   ]
  },
  {
   "cell_type": "code",
   "execution_count": 10,
   "metadata": {
    "colab": {
     "base_uri": "https://localhost:8080/"
    },
    "id": "gcYQD9V4frA1",
    "outputId": "03d63eb2-9a6b-4b66-8348-e6b55faf5971"
   },
   "outputs": [
    {
     "name": "stdout",
     "output_type": "stream",
     "text": [
      "Accuracy: 0.46534653465346537\n",
      "Precision: 0.4234688003684089\n",
      "Recall: 0.46534653465346537\n",
      "F1-Score: 0.37098879290985004\n"
     ]
    },
    {
     "name": "stderr",
     "output_type": "stream",
     "text": [
      "C:\\Users\\Flo13\\AppData\\Local\\Programs\\Python\\Python310\\lib\\site-packages\\sklearn\\metrics\\_classification.py:1334: UndefinedMetricWarning: Precision is ill-defined and being set to 0.0 in labels with no predicted samples. Use `zero_division` parameter to control this behavior.\n",
      "  _warn_prf(average, modifier, msg_start, len(result))\n"
     ]
    }
   ],
   "source": [
    "# Calculate accuracy score\n",
    "accuracy = accuracy_score(y_test, y_pred)\n",
    "print(\"Accuracy:\", accuracy)\n",
    "\n",
    "# Calculate precision score\n",
    "precision = precision_score(y_test, y_pred, average='weighted')\n",
    "print(\"Precision:\", precision)\n",
    "\n",
    "# Calculate recall score\n",
    "recall = recall_score(y_test, y_pred, average='weighted')\n",
    "print(\"Recall:\", recall)\n",
    "\n",
    "# Calculate f1-score\n",
    "f1 = f1_score(y_test, y_pred, average='weighted')\n",
    "print(\"F1-Score:\", f1)"
   ]
  },
  {
   "cell_type": "code",
   "execution_count": 11,
   "metadata": {
    "colab": {
     "base_uri": "https://localhost:8080/"
    },
    "id": "wWlEHyMQy01b",
    "outputId": "a82593d5-ddbb-473d-b7e8-3f5f93be56cb"
   },
   "outputs": [
    {
     "name": "stdout",
     "output_type": "stream",
     "text": [
      "[[79  6  0  0  0]\n",
      " [78 15  0  0  0]\n",
      " [ 8  4  0  0  0]\n",
      " [ 6  2  0  0  0]\n",
      " [ 1  3  0  0  0]]\n"
     ]
    }
   ],
   "source": [
    "# Print confusion matrix\n",
    "print(confusion_matrix(y_test, y_pred))"
   ]
  },
  {
   "cell_type": "code",
   "execution_count": 12,
   "metadata": {
    "colab": {
     "base_uri": "https://localhost:8080/"
    },
    "id": "TmrZhViQy09L",
    "outputId": "f1dd33fe-5bec-4950-bddc-fe72a911ed51"
   },
   "outputs": [
    {
     "name": "stdout",
     "output_type": "stream",
     "text": [
      "              precision    recall  f1-score   support\n",
      "\n",
      "           0       0.46      0.93      0.61        85\n",
      "           1       0.50      0.16      0.24        93\n",
      "           2       0.00      0.00      0.00        12\n",
      "           3       0.00      0.00      0.00         8\n",
      "           4       0.00      0.00      0.00         4\n",
      "\n",
      "    accuracy                           0.47       202\n",
      "   macro avg       0.19      0.22      0.17       202\n",
      "weighted avg       0.42      0.47      0.37       202\n",
      "\n"
     ]
    },
    {
     "name": "stderr",
     "output_type": "stream",
     "text": [
      "C:\\Users\\Flo13\\AppData\\Local\\Programs\\Python\\Python310\\lib\\site-packages\\sklearn\\metrics\\_classification.py:1334: UndefinedMetricWarning: Precision and F-score are ill-defined and being set to 0.0 in labels with no predicted samples. Use `zero_division` parameter to control this behavior.\n",
      "  _warn_prf(average, modifier, msg_start, len(result))\n",
      "C:\\Users\\Flo13\\AppData\\Local\\Programs\\Python\\Python310\\lib\\site-packages\\sklearn\\metrics\\_classification.py:1334: UndefinedMetricWarning: Precision and F-score are ill-defined and being set to 0.0 in labels with no predicted samples. Use `zero_division` parameter to control this behavior.\n",
      "  _warn_prf(average, modifier, msg_start, len(result))\n",
      "C:\\Users\\Flo13\\AppData\\Local\\Programs\\Python\\Python310\\lib\\site-packages\\sklearn\\metrics\\_classification.py:1334: UndefinedMetricWarning: Precision and F-score are ill-defined and being set to 0.0 in labels with no predicted samples. Use `zero_division` parameter to control this behavior.\n",
      "  _warn_prf(average, modifier, msg_start, len(result))\n"
     ]
    }
   ],
   "source": [
    "# Print classification report\n",
    "print(classification_report(y_test, y_pred))"
   ]
  },
  {
   "cell_type": "code",
   "execution_count": null,
   "outputs": [],
   "source": [],
   "metadata": {
    "collapsed": false
   }
  }
 ],
 "metadata": {
  "accelerator": "GPU",
  "colab": {
   "provenance": []
  },
  "gpuClass": "standard",
  "kernelspec": {
   "display_name": "Python 3",
   "name": "python3"
  },
  "language_info": {
   "name": "python"
  }
 },
 "nbformat": 4,
 "nbformat_minor": 0
}
