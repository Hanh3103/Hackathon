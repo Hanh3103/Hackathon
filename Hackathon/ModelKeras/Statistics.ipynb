{
 "cells": [
  {
   "cell_type": "code",
   "execution_count": 57,
   "metadata": {
    "collapsed": true
   },
   "outputs": [],
   "source": [
    "import sklearn as sk\n",
    "import statsmodels.api as sm\n",
    "from statsmodels.formula.api import glm\n",
    "from sklearn import preprocessing\n",
    "from sklearn import decomposition\n",
    "import pandas as pd\n",
    "import matplotlib.pyplot as plt\n",
    "import numpy as np\n",
    "import sdv\n",
    "import pickle as pk\n",
    "from sklearn.decomposition import PCA\n",
    "from sklearn.preprocessing import MinMaxScaler\n",
    "from sklearn.preprocessing import OneHotEncoder, StandardScaler\n",
    "from imblearn.over_sampling import RandomOverSampler\n",
    "from sklearn.model_selection import train_test_split\n",
    "from sklearn import svm\n",
    "from sklearn import metrics\n",
    "from sklearn.metrics import RocCurveDisplay, roc_auc_score, confusion_matrix\n",
    "from sklearn.metrics import RocCurveDisplay, roc_auc_score, confusion_matrix\n",
    "import imblearn\n",
    "from sklearn import metrics\n",
    "from sklearn.datasets import make_classification\n",
    "import matplotlib.pyplot as plt\n",
    "from sklearn.model_selection import train_test_split\n",
    "from sklearn.ensemble import RandomForestClassifier\n",
    "from imblearn.ensemble import BalancedRandomForestClassifier"
   ]
  },
  {
   "cell_type": "code",
   "execution_count": 75,
   "outputs": [],
   "source": [
    "df = pd.read_csv('./train_combined_Species.csv')\n",
    "df.drop(df.columns[0], axis=1, inplace=True)\n",
    "df = df.fillna(0).drop_duplicates()\n",
    "\n",
    "def drop_almost_zero(df, percentage):\n",
    "    column_cut_off = int(percentage/100*len(df))\n",
    "    b = (df == 0).sum(axis='rows')\n",
    "    df = df[ b[ b <= column_cut_off].index.values ]\n",
    "    return df\n",
    "# df = drop_almost_zero(df,90)\n",
    "\n",
    "inputvalues = df.drop(['label'], axis=1)\n",
    "outputvalues = df['label']\n",
    "X, y = inputvalues.values, outputvalues.values\n",
    "X = X.astype('float32')\n",
    "\n",
    "scaler = MinMaxScaler().fit(X)\n",
    "pk.dump(scaler, open(\"scaler.pkl\",\"wb\"))\n",
    "X = scaler.transform(X)\n",
    "\n",
    "pca = PCA(n_components=90).fit(X)\n",
    "pk.dump(pca, open(\"pca.pkl\",\"wb\"))\n",
    "X = pca.transform(X)"
   ],
   "metadata": {
    "collapsed": false
   }
  },
  {
   "cell_type": "code",
   "execution_count": 77,
   "outputs": [
    {
     "name": "stdout",
     "output_type": "stream",
     "text": [
      "Classification Report: \n",
      "               precision    recall  f1-score   support\n",
      "\n",
      "           0       0.45      0.60      0.51        85\n",
      "           1       0.57      0.25      0.35        93\n",
      "           2       0.00      0.00      0.00        12\n",
      "           3       0.07      0.12      0.09         8\n",
      "           4       0.18      0.50      0.27         4\n",
      "\n",
      "    accuracy                           0.38       202\n",
      "   macro avg       0.26      0.29      0.24       202\n",
      "weighted avg       0.46      0.38      0.38       202\n",
      "\n",
      "\n",
      "Confusion Matrix: \n",
      " [[51 14 10  5  5]\n",
      " [50 23 12  6  2]\n",
      " [ 8  1  0  1  2]\n",
      " [ 4  2  1  1  0]\n",
      " [ 1  0  0  1  2]]\n",
      "\n"
     ]
    }
   ],
   "source": [
    "from imblearn.under_sampling import RandomUnderSampler\n",
    "\n",
    "X_train, X_test, y_train, y_test = train_test_split(X, y, test_size=0.2, random_state=1234)\n",
    "sampler = RandomOverSampler(sampling_strategy='all')\n",
    "X_train, y_train = sampler.fit_resample(X_train, y_train)\n",
    "\n",
    "clf = svm.SVC(kernel='linear', C=1)\n",
    "clf.fit(X_train, y_train)\n",
    "y_pred = clf.predict(X_test)\n",
    "print(\"Classification Report: \\n {}\\n\".format(metrics.classification_report(y_test, y_pred)))\n",
    "print(\"Confusion Matrix: \\n {}\\n\".format(confusion_matrix(y_test, y_pred)))"
   ],
   "metadata": {
    "collapsed": false
   }
  },
  {
   "cell_type": "code",
   "execution_count": 70,
   "outputs": [
    {
     "data": {
      "text/plain": "array([[1., 0., 0., 0., 0.],\n       [0., 1., 0., 0., 0.],\n       [0., 1., 0., 0., 0.],\n       ...,\n       [1., 0., 0., 0., 0.],\n       [1., 0., 0., 0., 0.],\n       [0., 1., 0., 0., 0.]])"
     },
     "execution_count": 70,
     "metadata": {},
     "output_type": "execute_result"
    }
   ],
   "source": [
    "#df[\"label\"].value_counts()\n",
    "y = y.reshape(-1, 1)\n",
    "y = OneHotEncoder(categories=[['0', '1', '2', '3', '4']], sparse=False).fit_transform(y)\n",
    "y"
   ],
   "metadata": {
    "collapsed": false
   }
  },
  {
   "cell_type": "code",
   "execution_count": 61,
   "outputs": [],
   "source": [
    "X_train, X_test, y_train, y_test = train_test_split(X, y, test_size=0.2, random_state=1234)\n",
    "sampler = RandomOverSampler(sampling_strategy='all')\n",
    "X_train, y_train = sampler.fit_resample(X_train, y_train)"
   ],
   "metadata": {
    "collapsed": false
   }
  },
  {
   "cell_type": "code",
   "execution_count": 62,
   "outputs": [
    {
     "name": "stdout",
     "output_type": "stream",
     "text": [
      "Classification Report: \n",
      "               precision    recall  f1-score   support\n",
      "\n",
      "           0       0.48      0.59      0.53        85\n",
      "           1       0.55      0.26      0.35        93\n",
      "           2       0.05      0.08      0.06        12\n",
      "           3       0.06      0.12      0.08         8\n",
      "           4       0.07      0.25      0.11         4\n",
      "\n",
      "    accuracy                           0.38       202\n",
      "   macro avg       0.24      0.26      0.23       202\n",
      "weighted avg       0.46      0.38      0.39       202\n",
      "\n",
      "\n",
      "Confusion Matrix: \n",
      " [[50 19  7  7  2]\n",
      " [40 24 11  8 10]\n",
      " [ 8  0  1  2  1]\n",
      " [ 5  0  2  1  0]\n",
      " [ 1  1  1  0  1]]\n",
      "\n"
     ]
    }
   ],
   "source": [
    "clf = svm.SVC(kernel='linear', C=1)\n",
    "clf.fit(X_train, y_train)\n",
    "y_pred = clf.predict(X_test)\n",
    "print(\"Classification Report: \\n {}\\n\".format(metrics.classification_report(y_test, y_pred)))\n",
    "print(\"Confusion Matrix: \\n {}\\n\".format(confusion_matrix(y_test, y_pred)))"
   ],
   "metadata": {
    "collapsed": false
   }
  },
  {
   "cell_type": "code",
   "execution_count": 69,
   "outputs": [
    {
     "name": "stdout",
     "output_type": "stream",
     "text": [
      "Accuracy of the model based on accuracy of test set:  0.5198\n",
      "Error of test set: 0.4802\n",
      "Out of bag score (samples in training set): 0.8083\n",
      "out-of-bag error (samples in training set): 0.1917\n",
      "Accuracy of Training set: 1.0000\n",
      "Classification Report: \n",
      "               precision    recall  f1-score   support\n",
      "\n",
      "           0       0.49      0.62      0.55        85\n",
      "           1       0.56      0.56      0.56        93\n",
      "           2       0.00      0.00      0.00        12\n",
      "           3       0.00      0.00      0.00         8\n",
      "           4       0.00      0.00      0.00         4\n",
      "\n",
      "    accuracy                           0.52       202\n",
      "   macro avg       0.21      0.24      0.22       202\n",
      "weighted avg       0.46      0.52      0.49       202\n",
      "\n",
      "\n",
      "Confusion Matrix: \n",
      " [[53 32  0  0  0]\n",
      " [41 52  0  0  0]\n",
      " [ 8  4  0  0  0]\n",
      " [ 6  2  0  0  0]\n",
      " [ 1  3  0  0  0]]\n",
      "\n"
     ]
    },
    {
     "name": "stderr",
     "output_type": "stream",
     "text": [
      "C:\\Users\\Flo13\\AppData\\Local\\Programs\\Python\\Python310\\lib\\site-packages\\sklearn\\metrics\\_classification.py:1334: UndefinedMetricWarning: Precision and F-score are ill-defined and being set to 0.0 in labels with no predicted samples. Use `zero_division` parameter to control this behavior.\n",
      "  _warn_prf(average, modifier, msg_start, len(result))\n",
      "C:\\Users\\Flo13\\AppData\\Local\\Programs\\Python\\Python310\\lib\\site-packages\\sklearn\\metrics\\_classification.py:1334: UndefinedMetricWarning: Precision and F-score are ill-defined and being set to 0.0 in labels with no predicted samples. Use `zero_division` parameter to control this behavior.\n",
      "  _warn_prf(average, modifier, msg_start, len(result))\n",
      "C:\\Users\\Flo13\\AppData\\Local\\Programs\\Python\\Python310\\lib\\site-packages\\sklearn\\metrics\\_classification.py:1334: UndefinedMetricWarning: Precision and F-score are ill-defined and being set to 0.0 in labels with no predicted samples. Use `zero_division` parameter to control this behavior.\n",
      "  _warn_prf(average, modifier, msg_start, len(result))\n"
     ]
    }
   ],
   "source": [
    "clf = RandomForestClassifier(n_estimators=1000, oob_score=True, random_state=42)\n",
    "clf.fit(X_train_oversampled, y_train_oversampled)  # type: ignore\n",
    "y_pred = clf.predict(X_test)\n",
    "\n",
    "'''\n",
    "feature_names = df.drop(['label'], axis=1).columns\n",
    "importances = clf.feature_importances_\n",
    "forest_importances = pd.Series(importances, index = feature_names)\n",
    "t = forest_importances.sort_values(ascending=False)\n",
    "print(t)\n",
    "'''\n",
    "\n",
    "a = metrics.accuracy_score(y_test, y_pred)\n",
    "print(f\"Accuracy of the model based on accuracy of test set: {a: .4f}\")\n",
    "print(f\"Error of test set: {1 - a:.4f}\")\n",
    "b = clf.oob_score_\n",
    "print(f\"Out of bag score (samples in training set): {b:.4f}\")\n",
    "print(f\"out-of-bag error (samples in training set): {1 - b:.4f}\")\n",
    "print(f\"Accuracy of Training set: {clf.score(X_train, y_train) :.4f}\")\n",
    "print(\"Classification Report: \\n {}\\n\".format(metrics.classification_report(y_test, y_pred)))\n",
    "print(\"Confusion Matrix: \\n {}\\n\".format(confusion_matrix(y_test, y_pred)))"
   ],
   "metadata": {
    "collapsed": false
   }
  },
  {
   "cell_type": "code",
   "execution_count": null,
   "outputs": [],
   "source": [
    "from sdv.tabular import CTGAN, GaussianCopula\n",
    "\n",
    "df0 = df.loc[(df['label'] == 0)]\n",
    "df1 = df.loc[df['label'] == 1]\n",
    "df01 = pd.concat([df0, df1], axis=0)\n",
    "\n",
    "model = GaussianCopula()\n",
    "model.fit(df01)\n",
    "new_data = model.sample(num_rows=1200)\n",
    "\n",
    "inputvalues = new_data.drop(['label'], axis=1)\n",
    "outputvalues = new_data['label']\n",
    "X_synth, y_synth = inputvalues.values, outputvalues.values\n",
    "X_synth = X_synth.astype('float32')"
   ],
   "metadata": {
    "collapsed": false
   }
  },
  {
   "cell_type": "code",
   "execution_count": null,
   "outputs": [],
   "source": [
    "X_train_synth, X_test_synth, y_train_synth, y_test_synth = train_test_split(X_synth, y_synth, test_size=0.2, random_state=1234)\n",
    "sampler = RandomOverSampler(sampling_strategy='all')\n",
    "X_train_synth_oversampled, y_train_synth_oversampled = sampler.fit_resample(X_train_synth, y_train_synth)"
   ],
   "metadata": {
    "collapsed": false
   }
  },
  {
   "cell_type": "code",
   "execution_count": 144,
   "outputs": [],
   "source": [
    "df0 = df.loc[(df['label'] == 0)]\n",
    "df1 = df.loc[df['label'] == 4]\n",
    "df01 = pd.concat([df0, df1], axis=0)\n",
    "\n",
    "def drop_almost_zero(df, percentage):\n",
    "    column_cut_off = int(percentage/100*len(df))\n",
    "    b = (df == 0).sum(axis='rows')\n",
    "    df = df[ b[ b <= column_cut_off].index.values ]\n",
    "    return df\n",
    "#df01 = drop_almost_zero(df01,90)\n",
    "\n",
    "inputvalues = df01.drop(['label'], axis=1)\n",
    "outputvalues = df01['label']\n",
    "X, y = inputvalues.values, outputvalues.values\n",
    "X = X.astype('float32')\n",
    "\n",
    "scaler = MinMaxScaler().fit(X)\n",
    "#pk.dump(scaler, open(\"scaler.pkl\",\"wb\"))\n",
    "X = scaler.transform(X)\n",
    "\n",
    "#pca = PCA(n_components=40).fit(X)\n",
    "#pk.dump(pca, open(\"pca.pkl\",\"wb\"))\n",
    "#X = pca.transform(X)"
   ],
   "metadata": {
    "collapsed": false
   }
  },
  {
   "cell_type": "code",
   "execution_count": 145,
   "outputs": [],
   "source": [
    "X_train, X_test, y_train, y_test = train_test_split(X, y, test_size=0.2, random_state=1234)\n",
    "sampler = RandomOverSampler(sampling_strategy='all')\n",
    "X_train, y_train = sampler.fit_resample(X_train, y_train)"
   ],
   "metadata": {
    "collapsed": false
   }
  },
  {
   "cell_type": "code",
   "execution_count": 146,
   "outputs": [
    {
     "name": "stdout",
     "output_type": "stream",
     "text": [
      "Classification Report: \n",
      "               precision    recall  f1-score   support\n",
      "\n",
      "           0       0.96      1.00      0.98        90\n",
      "           4       0.00      0.00      0.00         4\n",
      "\n",
      "    accuracy                           0.96        94\n",
      "   macro avg       0.48      0.50      0.49        94\n",
      "weighted avg       0.92      0.96      0.94        94\n",
      "\n",
      "\n",
      "Confusion Matrix: \n",
      " [[90  0]\n",
      " [ 4  0]]\n",
      "\n"
     ]
    },
    {
     "name": "stderr",
     "output_type": "stream",
     "text": [
      "C:\\Users\\Flo13\\AppData\\Local\\Programs\\Python\\Python310\\lib\\site-packages\\sklearn\\metrics\\_classification.py:1334: UndefinedMetricWarning: Precision and F-score are ill-defined and being set to 0.0 in labels with no predicted samples. Use `zero_division` parameter to control this behavior.\n",
      "  _warn_prf(average, modifier, msg_start, len(result))\n",
      "C:\\Users\\Flo13\\AppData\\Local\\Programs\\Python\\Python310\\lib\\site-packages\\sklearn\\metrics\\_classification.py:1334: UndefinedMetricWarning: Precision and F-score are ill-defined and being set to 0.0 in labels with no predicted samples. Use `zero_division` parameter to control this behavior.\n",
      "  _warn_prf(average, modifier, msg_start, len(result))\n",
      "C:\\Users\\Flo13\\AppData\\Local\\Programs\\Python\\Python310\\lib\\site-packages\\sklearn\\metrics\\_classification.py:1334: UndefinedMetricWarning: Precision and F-score are ill-defined and being set to 0.0 in labels with no predicted samples. Use `zero_division` parameter to control this behavior.\n",
      "  _warn_prf(average, modifier, msg_start, len(result))\n"
     ]
    }
   ],
   "source": [
    "clf = svm.SVC(kernel='linear', C=1)\n",
    "clf.fit(X_train, y_train)\n",
    "y_pred = clf.predict(X_test)\n",
    "print(\"Classification Report: \\n {}\\n\".format(metrics.classification_report(y_test, y_pred)))\n",
    "print(\"Confusion Matrix: \\n {}\\n\".format(confusion_matrix(y_test, y_pred)))"
   ],
   "metadata": {
    "collapsed": false
   }
  }
 ],
 "metadata": {
  "kernelspec": {
   "display_name": "Python 3",
   "language": "python",
   "name": "python3"
  },
  "language_info": {
   "codemirror_mode": {
    "name": "ipython",
    "version": 2
   },
   "file_extension": ".py",
   "mimetype": "text/x-python",
   "name": "python",
   "nbconvert_exporter": "python",
   "pygments_lexer": "ipython2",
   "version": "2.7.6"
  }
 },
 "nbformat": 4,
 "nbformat_minor": 0
}
