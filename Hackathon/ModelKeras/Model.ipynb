{
 "cells": [
  {
   "cell_type": "code",
   "execution_count": 1,
   "outputs": [],
   "source": [
    "import numpy as np\n",
    "import pandas as pd\n",
    "from imblearn.under_sampling import RandomUnderSampler\n",
    "from keras.wrappers.scikit_learn import KerasClassifier\n",
    "from sklearn.decomposition import PCA\n",
    "from sklearn.model_selection import train_test_split\n",
    "from sklearn.preprocessing import LabelEncoder, OneHotEncoder, MinMaxScaler\n",
    "from tensorflow import keras\n",
    "import tensorflow as tf\n",
    "from imblearn.over_sampling import RandomOverSampler\n",
    "from sklearn.model_selection import GridSearchCV\n",
    "from tensorflow.keras.models import Sequential\n",
    "from tensorflow.keras.layers import Dense\n",
    "from scikeras.wrappers import KerasClassifier\n",
    "from sklearn.metrics import classification_report"
   ],
   "metadata": {
    "collapsed": false
   }
  },
  {
   "cell_type": "code",
   "execution_count": 2,
   "outputs": [],
   "source": [
    "def load_data(sampler):\n",
    "    df = pd.read_csv('./train_combined_Species.csv')\n",
    "    df.drop(df.columns[0], axis=1, inplace=True)\n",
    "    df = df.fillna(0).drop_duplicates()\n",
    "\n",
    "    inputvalues = df.drop(['label'], axis=1)\n",
    "    outputvalues = df['label']\n",
    "\n",
    "    scaler = MinMaxScaler()\n",
    "    inputvalues = scaler.fit_transform(inputvalues)\n",
    "\n",
    "    # pca = PCA(n_components=600)\n",
    "    # inputvalues = pca.fit_transform(inputvalues)\n",
    "\n",
    "    X, y = inputvalues, outputvalues.values\n",
    "    X = X.astype('float32')\n",
    "    y = y.reshape(-1, 1)\n",
    "    y = OneHotEncoder(categories=[['0', '1', '2', '3', '4']], sparse=False).fit_transform(y)\n",
    "\n",
    "    X_train, X_test, y_train, y_test = train_test_split(X, y, test_size=0.2, random_state=1234)\n",
    "\n",
    "    X_train, y_train = sampler.fit_resample(X_train, y_train)\n",
    "    n_features = X_train.shape[1]\n",
    "    return df, X_train, X_test, y_train, y_test, n_features"
   ],
   "metadata": {
    "collapsed": false
   }
  },
  {
   "cell_type": "code",
   "execution_count": 3,
   "outputs": [],
   "source": [
    "def create_model(activation, dropout_rate, init_mode, kernel_regularizer_val1, kernel_regularizer_val2,\n",
    "                 bias_regularizer_val, activity_regularizer_val, label_count, n_features, opt_type,\n",
    "                 learning_rate, dropout, batchN, size1, size2, size3):\n",
    "    model = Sequential()\n",
    "    if opt_type == 1:\n",
    "        opt = keras.optimizers.Adam(\n",
    "            learning_rate=learning_rate)\n",
    "    else:\n",
    "        opt = tf.keras.optimizers.experimental.SGD(\n",
    "            learning_rate=learning_rate)\n",
    "\n",
    "    sizes = [size1, size1, size2, size2, size3, size3]\n",
    "    inputlayer = True\n",
    "    i = -1\n",
    "    while i < 2:\n",
    "        i = i + 1\n",
    "        create_layer(model=model, size=sizes[i], activation=activation, dropout=dropout,\n",
    "                     dropout_rate=dropout_rate, batchN=batchN, inputlayer=inputlayer, init_mode=init_mode,\n",
    "                     kernel_regularizer_val1=kernel_regularizer_val1, kernel_regularizer_val2=kernel_regularizer_val2,\n",
    "                     bias_regularizer_val=bias_regularizer_val, activity_regularizer_val=activity_regularizer_val,\n",
    "                     n_features=n_features)\n",
    "        inputlayer = False\n",
    "    model.add(Dense(label_count, activation=\"sigmoid\"))\n",
    "    model.compile(optimizer=opt, loss='categorical_crossentropy', metrics=['accuracy'])\n",
    "    return model\n",
    "\n",
    "\n",
    "def create_layer(model, size, activation, dropout, dropout_rate, batchN, inputlayer, init_mode,\n",
    "                 kernel_regularizer_val1, kernel_regularizer_val2, bias_regularizer_val, activity_regularizer_val,\n",
    "                 n_features):\n",
    "    if inputlayer:\n",
    "        model.add(Dense(size, activation=activation, kernel_initializer=init_mode,\n",
    "                        kernel_regularizer=tf.keras.regularizers.L1L2(l1=kernel_regularizer_val1,\n",
    "                                                                      l2=kernel_regularizer_val2),\n",
    "                        bias_regularizer=tf.keras.regularizers.L2(bias_regularizer_val),\n",
    "                        activity_regularizer=tf.keras.regularizers.L2(activity_regularizer_val),\n",
    "                        input_shape=(n_features,)))\n",
    "    else:\n",
    "        model.add(Dense(size, activation=activation, kernel_initializer=init_mode,\n",
    "                        kernel_regularizer=tf.keras.regularizers.L1L2(l1=kernel_regularizer_val1,\n",
    "                                                                      l2=kernel_regularizer_val2),\n",
    "                        bias_regularizer=tf.keras.regularizers.L2(bias_regularizer_val),\n",
    "                        activity_regularizer=tf.keras.regularizers.L2(activity_regularizer_val)))\n",
    "    if dropout:\n",
    "        model.add(tf.keras.layers.Dropout(rate=dropout_rate))\n",
    "    if batchN:\n",
    "        model.add(tf.keras.layers.BatchNormalization())"
   ],
   "metadata": {
    "collapsed": false
   }
  },
  {
   "cell_type": "code",
   "execution_count": 4,
   "metadata": {
    "collapsed": true
   },
   "outputs": [],
   "source": [
    "# search for optimal hyperparameter\n",
    "def hyper_grid_search():\n",
    "    # creating the Keras Model\n",
    "    model = KerasClassifier(model=create_model, verbose=1)\n",
    "\n",
    "    # Load the dataset\n",
    "    samplers = [RandomUnderSampler(sampling_strategy='majority'), RandomOverSampler(sampling_strategy='all')]\n",
    "    df, X_train, X_test, y_train, y_test, n_features = load_data(sampler=samplers[1])\n",
    "\n",
    "    # Hyperparameter for the Model\n",
    "    label_count = [5]\n",
    "    n_features = [n_features]\n",
    "    batch_sizes = [64]\n",
    "    epochss = [60, 90] # 74\n",
    "    activations = ['relu'] # activations = ['softmax', 'softplus', 'softsign', 'relu', 'tanh', 'sigmoid', 'hard_sigmoid', 'linear']\n",
    "    init_mode = ['glorot_normal'] # init_mode = ['uniform', 'lecun_uniform', 'normal', 'zero', 'glorot_normal', 'glorot_uniform', 'he_normal', 'he_uniform']\n",
    "    dropout_rates = [0.1, 0.2]\n",
    "    kernel_regularizer_val1s = [1e-6, 1e-5] #[1e-6, 1e-5, 1e-4, 1e-3]\n",
    "    kernel_regularizer_val2s = [1e-5, 1e-4] #[1e-5, 1e-4, 1e-3, 1e-2]\n",
    "    bias_regularizer_vals = [1e-5, 1e-4] #[1e-5, 1e-4, 1e-3, 1e-2]\n",
    "    activity_regularizer_vals = [1e-6, 1e-5] #[1e-6, 1e-5, 1e-4, 1e-3]\n",
    "    opt_types = [1]\n",
    "    learning_rates = [1e-05, 1e-06, 1e-07]  # [0.0000001, 0.000001, 0.00001, 0.0001]\n",
    "    dropouts = [True]\n",
    "    batchNs = [True]\n",
    "    sizes1 = [64]  # [4, 8, 16, 32]\n",
    "    sizes2 = [32]\n",
    "    sizes3 = [4]\n",
    "    param_grid = dict(model__activation=activations, model__dropout_rate=dropout_rates, model__init_mode=init_mode,\n",
    "                      model__kernel_regularizer_val1=kernel_regularizer_val1s,\n",
    "                      model__kernel_regularizer_val2=kernel_regularizer_val2s,\n",
    "                      model__bias_regularizer_val=bias_regularizer_vals,\n",
    "                      model__activity_regularizer_val=activity_regularizer_vals,\n",
    "                      model__label_count=label_count, model__n_features=n_features,\n",
    "                      model__opt_type=opt_types, model__learning_rate=learning_rates, model__dropout=dropouts,\n",
    "                      model__batchN=batchNs,\n",
    "                      model__size1=sizes1, model__size2=sizes2, model__size3=sizes3, batch_size=batch_sizes,\n",
    "                      epochs=epochss)\n",
    "\n",
    "    grid = GridSearchCV(estimator=model, param_grid=param_grid, n_jobs=-1, cv=3, verbose=3)\n",
    "    grid_result = grid.fit(X_train, y_train, validation_data=(X_test, y_test), verbose=0)\n",
    "\n",
    "    # summarize results\n",
    "    print(\"Best: %f using %s\" % (grid_result.best_score_, grid_result.best_params_))\n",
    "    means = grid_result.cv_results_['mean_test_score']\n",
    "    stds = grid_result.cv_results_['std_test_score']\n",
    "    params = grid_result.cv_results_['params']\n",
    "    for mean, stdev, param in zip(means, stds, params):\n",
    "        print(\"%f (%f) with: %r\" % (mean, stdev, param))"
   ]
  },
  {
   "cell_type": "code",
   "execution_count": 7,
   "outputs": [],
   "source": [
    "def train(iters):\n",
    "    samplers = [RandomUnderSampler(sampling_strategy='majority'), RandomOverSampler(sampling_strategy='all')]\n",
    "    df, X_train, X_test, y_train, y_test, n_features = load_data(sampler=samplers[1])\n",
    "    i = iters\n",
    "    while i > 0:\n",
    "        i = i - 1\n",
    "        model = create_model(activation='relu', dropout_rate=0.1, init_mode='he_normal', kernel_regularizer_val1=1e-6,\n",
    "                             kernel_regularizer_val2=1e-5,\n",
    "                             bias_regularizer_val=1e-5, activity_regularizer_val=1e-6, label_count=5,\n",
    "                             n_features=n_features,\n",
    "                             opt_type=1, learning_rate=1e-06, dropout=True, batchN=True, size1=64, size2=32, size3=5)\n",
    "\n",
    "        # early_stopping = tf.keras.callbacks.EarlyStopping(monitor='loss', patience=3)\n",
    "        callbacks_list = []\n",
    "        model.fit(X_train, y_train, epochs=75, batch_size=64, verbose=0, callbacks=callbacks_list)\n",
    "        eval_model(model, X_test, y_test)\n",
    "\n",
    "\n",
    "def eval_model(model, X_test, y_test):\n",
    "    Y_test = np.argmax(y_test, axis=1)  # Convert one-hot to index\n",
    "    y_pred = np.argmax(model.predict(X_test), axis=-1)\n",
    "    print(classification_report(Y_test, y_pred))\n",
    "    model.save('Species_FHHED.h5')"
   ],
   "metadata": {
    "collapsed": false
   }
  },
  {
   "cell_type": "code",
   "execution_count": 8,
   "outputs": [
    {
     "name": "stdout",
     "output_type": "stream",
     "text": [
      "7/7 [==============================] - 0s 2ms/step\n",
      "              precision    recall  f1-score   support\n",
      "\n",
      "           0       0.33      0.16      0.22        85\n",
      "           1       0.33      0.18      0.24        93\n",
      "           2       0.07      0.08      0.08        12\n",
      "           3       0.03      0.25      0.05         8\n",
      "           4       0.04      0.25      0.06         4\n",
      "\n",
      "    accuracy                           0.17       202\n",
      "   macro avg       0.16      0.19      0.13       202\n",
      "weighted avg       0.30      0.17      0.21       202\n",
      "\n"
     ]
    }
   ],
   "source": [
    "train(1)\n",
    "# hyper_grid_search()\n",
    "\n",
    "# model.save_weights('./' + \"3x12294_500_279_0.5\")\n",
    "\n",
    "# model = create_model(label_count)\n",
    "# model.load_weights('./' + \"3x12294_500_279_0.5\")"
   ],
   "metadata": {
    "collapsed": false
   }
  }
 ],
 "metadata": {
  "kernelspec": {
   "display_name": "Python 3",
   "language": "python",
   "name": "python3"
  },
  "language_info": {
   "codemirror_mode": {
    "name": "ipython",
    "version": 2
   },
   "file_extension": ".py",
   "mimetype": "text/x-python",
   "name": "python",
   "nbconvert_exporter": "python",
   "pygments_lexer": "ipython2",
   "version": "2.7.6"
  }
 },
 "nbformat": 4,
 "nbformat_minor": 0
}
