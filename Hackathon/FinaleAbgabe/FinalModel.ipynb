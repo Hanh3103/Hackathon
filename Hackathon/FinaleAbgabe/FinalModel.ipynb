{
 "cells": [
  {
   "cell_type": "code",
   "execution_count": 105,
   "metadata": {
    "collapsed": true
   },
   "outputs": [],
   "source": [
    "import pandas as pd\n",
    "\n",
    "df = pd.read_csv('./train_combined_Species.csv')\n",
    "df.drop(df.columns[0], axis=1, inplace=True)\n",
    "df = df.fillna(0).drop_duplicates()\n",
    "\n",
    "def drop_almost_zero(df, percentage):\n",
    "    column_cut_off = int(percentage/100*len(df))\n",
    "    b = (df == 0).sum(axis='rows')\n",
    "    df = df[ b[ b <= column_cut_off].index.values ]\n",
    "    return df\n",
    "#df = drop_almost_zero(df,90)\n",
    "\n",
    "inputvalues = df.drop(['label'], axis=1)\n",
    "outputvalues = df['label']\n",
    "X, y = inputvalues.values, outputvalues.values\n",
    "X = X.astype('float32')"
   ]
  },
  {
   "cell_type": "code",
   "execution_count": 106,
   "outputs": [],
   "source": [
    "from sklearn.decomposition import PCA\n",
    "from sklearn.preprocessing import MinMaxScaler\n",
    "import pickle as pk\n",
    "\n",
    "scaler = MinMaxScaler().fit(X)\n",
    "pk.dump(scaler, open(\"scaler.pkl\",\"wb\"))\n",
    "X = scaler.transform(X)\n",
    "\n",
    "pca = PCA(n_components=90).fit(X)\n",
    "pk.dump(pca, open(\"pca.pkl\",\"wb\"))\n",
    "X = pca.transform(X)"
   ],
   "metadata": {
    "collapsed": false
   }
  },
  {
   "cell_type": "code",
   "execution_count": 107,
   "outputs": [],
   "source": [
    "from imblearn.over_sampling import RandomOverSampler\n",
    "from sklearn.model_selection import train_test_split\n",
    "\n",
    "X_train, X_test, y_train, y_test = train_test_split(X, y, test_size=0.2, random_state=1234)\n",
    "\n",
    "sampler = RandomOverSampler(sampling_strategy='all')\n",
    "X_train, y_train = sampler.fit_resample(X_train, y_train)"
   ],
   "metadata": {
    "collapsed": false
   }
  },
  {
   "cell_type": "code",
   "execution_count": 108,
   "outputs": [
    {
     "name": "stdout",
     "output_type": "stream",
     "text": [
      "Classification Report: \n",
      "               precision    recall  f1-score   support\n",
      "\n",
      "           0       0.48      0.58      0.52        85\n",
      "           1       0.53      0.26      0.35        93\n",
      "           2       0.07      0.17      0.10        12\n",
      "           3       0.12      0.25      0.17         8\n",
      "           4       0.09      0.25      0.13         4\n",
      "\n",
      "    accuracy                           0.39       202\n",
      "   macro avg       0.26      0.30      0.25       202\n",
      "weighted avg       0.46      0.39      0.39       202\n",
      "\n",
      "\n",
      "Confusion Matrix: \n",
      " [[49 18 10  4  4]\n",
      " [44 24 13  8  4]\n",
      " [ 6  1  2  2  1]\n",
      " [ 3  0  2  2  1]\n",
      " [ 1  2  0  0  1]]\n",
      "\n"
     ]
    }
   ],
   "source": [
    "import joblib\n",
    "from sklearn import metrics\n",
    "from sklearn.metrics import confusion_matrix\n",
    "from sklearn import svm\n",
    "\n",
    "clf = svm.SVC(kernel='linear', C=1)\n",
    "clf.fit(X_train, y_train)\n",
    "joblib.dump(clf, 'Species_HuyenHanhFlorianElaMohammedDominik')\n",
    "y_pred = clf.predict(X_test)\n",
    "print(\"Classification Report: \\n {}\\n\".format(metrics.classification_report(y_test, y_pred)))\n",
    "print(\"Confusion Matrix: \\n {}\\n\".format(confusion_matrix(y_test, y_pred)))"
   ],
   "metadata": {
    "collapsed": false
   }
  }
 ],
 "metadata": {
  "kernelspec": {
   "display_name": "Python 3",
   "language": "python",
   "name": "python3"
  },
  "language_info": {
   "codemirror_mode": {
    "name": "ipython",
    "version": 2
   },
   "file_extension": ".py",
   "mimetype": "text/x-python",
   "name": "python",
   "nbconvert_exporter": "python",
   "pygments_lexer": "ipython2",
   "version": "2.7.6"
  }
 },
 "nbformat": 4,
 "nbformat_minor": 0
}
