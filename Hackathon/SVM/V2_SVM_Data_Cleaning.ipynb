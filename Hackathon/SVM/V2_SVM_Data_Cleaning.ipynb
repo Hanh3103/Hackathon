{
  "nbformat": 4,
  "nbformat_minor": 0,
  "metadata": {
    "colab": {
      "provenance": []
    },
    "kernelspec": {
      "name": "python3",
      "display_name": "Python 3"
    },
    "language_info": {
      "name": "python"
    },
    "accelerator": "GPU",
    "gpuClass": "standard"
  },
  "cells": [
    {
      "cell_type": "code",
      "source": [
        "import os\n",
        "import pandas as pd\n",
        "import numpy as np\n",
        "from sklearn.preprocessing import StandardScaler, MinMaxScaler\n",
        "from sklearn.decomposition import PCA\n",
        "from sklearn.svm import SVC, LinearSVC\n",
        "from sklearn.model_selection import train_test_split, cross_val_score, GridSearchCV\n",
        "import sklearn.metrics as metrics\n",
        "from sklearn.metrics import confusion_matrix, classification_report, accuracy_score, precision_score, recall_score, f1_score\n",
        "import matplotlib.pyplot as plt\n",
        "from sklearn.feature_selection import SelectKBest, chi2, RFE\n",
        "from sklearn.multiclass import OneVsRestClassifier\n",
        "from sklearn.utils import resample"
      ],
      "metadata": {
        "id": "3BUMBhzRuYnj"
      },
      "execution_count": 40,
      "outputs": []
    },
    {
      "cell_type": "code",
      "source": [
        "# Read in csv file\n",
        "df = pd.read_csv(\"/content/drive/MyDrive/HackathonData/train_combined_Species.csv\", sep = ',')"
      ],
      "metadata": {
        "id": "xYMcoxr7ucSA"
      },
      "execution_count": 62,
      "outputs": []
    },
    {
      "cell_type": "code",
      "source": [
        "# Drop the index column\n",
        "df.drop(df.columns[0], axis=1, inplace=True)  "
      ],
      "metadata": {
        "id": "y650qT0JwYvJ"
      },
      "execution_count": 63,
      "outputs": []
    },
    {
      "cell_type": "code",
      "source": [
        "df.shape"
      ],
      "metadata": {
        "colab": {
          "base_uri": "https://localhost:8080/"
        },
        "id": "e30oRpFGR_xS",
        "outputId": "424a9fa0-9847-4164-ca13-aef6d6d698f5"
      },
      "execution_count": 43,
      "outputs": [
        {
          "output_type": "execute_result",
          "data": {
            "text/plain": [
              "(1006, 17788)"
            ]
          },
          "metadata": {},
          "execution_count": 43
        }
      ]
    },
    {
      "cell_type": "markdown",
      "source": [
        "# DATA PREPROCESSING"
      ],
      "metadata": {
        "id": "Fr-rth9wPFab"
      }
    },
    {
      "cell_type": "code",
      "source": [
        "# create a MinMaxScaler object\n",
        "scaler = MinMaxScaler()\n",
        "\n",
        "# select the columns to be scaled and create a new dataframe\n",
        "df_temp = df.drop(\"label\", axis=1)\n",
        "\n",
        "# scale the selected columns\n",
        "df_scaled = scaler.fit_transform(df_temp.values)\n",
        "\n",
        "# create a new dataframe from the scaled columns\n",
        "df_scaled = pd.DataFrame(df_scaled, columns=df_temp.columns)\n",
        "\n",
        "# concatenate the scaled columns with the unscaled 'label' column\n",
        "df_scaled_result = pd.concat([df_scaled, df['label']], axis=1)\n",
        "\n",
        "df = df_scaled_result"
      ],
      "metadata": {
        "id": "nyjQvN54u8OR"
      },
      "execution_count": 64,
      "outputs": []
    },
    {
      "cell_type": "markdown",
      "source": [
        "# FEATURE SELECTION\n",
        "\n",
        "\n",
        "\n"
      ],
      "metadata": {
        "id": "1iCh4nmxZcnO"
      }
    },
    {
      "cell_type": "code",
      "source": [
        "# Selecting only the columns which contain only 2 unique values\n",
        "n_unique = df.loc[:,df.apply(pd.Series.nunique) == 2]\n",
        "\n",
        "if 'label' in n_unique.columns:\n",
        "\n",
        "    # Select only the rows with 'label' value 0\n",
        "    nicht_kranke = n_unique[n_unique['label'] == 0]\n",
        "\n",
        "    for i in nicht_kranke.columns:\n",
        "        if i != 'label':\n",
        "            display(nicht_kranke[i].value_counts())\n",
        "\n",
        "    # Select only the rows with 'label' value 1\n",
        "    kranke = n_unique[n_unique['label'] == 1]\n",
        "    \n",
        "    for i in kranke.columns:\n",
        "        # If the column is not 'label', display the value counts\n",
        "        if i != 'label':\n",
        "            print(kranke[i].value_counts())\n",
        "\n",
        "    # Drop the 'label' column from n_unique\n",
        "    n_unique.drop('label', axis=1, inplace=True)\n",
        "\n",
        "# Create a list of columns from df which are not present in n_unique\n",
        "cols = [col for col in df.columns if col not in n_unique.columns]\n",
        "\n",
        "# If cols is not an empty list, select only those columns from df\n",
        "if cols:\n",
        "    df = df[cols]\n",
        "else:\n",
        "    # Create a copy of df and assign it to df\n",
        "    df = df.copy()\n",
        "\n",
        "\n",
        "df.shape\n"
      ],
      "metadata": {
        "colab": {
          "base_uri": "https://localhost:8080/"
        },
        "id": "bORKXpNeTMye",
        "outputId": "6bac2a8a-2eb3-4cc9-e6f9-76db3bc7f8b7"
      },
      "execution_count": 65,
      "outputs": [
        {
          "output_type": "execute_result",
          "data": {
            "text/plain": [
              "(1006, 11715)"
            ]
          },
          "metadata": {},
          "execution_count": 65
        }
      ]
    },
    {
      "cell_type": "markdown",
      "source": [
        "# PCA, SVM"
      ],
      "metadata": {
        "id": "NS_DIPcLzITS"
      }
    },
    {
      "cell_type": "code",
      "source": [
        "# Extract the features and target variables\n",
        "X = df.iloc[:, :-1].values\n",
        "y = df.iloc[:, -1].values\n",
        "\n",
        "# Split the data into train and test sets\n",
        "X_train, X_test, y_train, y_test = train_test_split(X, y, test_size=0.2, random_state=0)\n",
        "\n",
        "# Initialize a list to store the cross-validated accuracy for different PCA components\n",
        "cv_scores = []\n",
        "\n",
        "# Try a smaller range of PCA components\n",
        "for n_components in range(1, min(X.shape[1]+1, 20)):\n",
        "    pca = PCA(n_components=n_components)\n",
        "    X_pca = pca.fit_transform(X)\n",
        "    \n",
        "    # Define the parameter grid for grid search\n",
        "    param_grid = {'C': [0.1, 1, 10, 100], 'gamma': [1, 0.1, 0.01, 0.001]}\n",
        "    \n",
        "    svm = SVC()\n",
        "    grid = GridSearchCV(svm, param_grid, cv=5)\n",
        "    grid.fit(X_pca, y)\n",
        "    cv_score = grid.best_score_\n",
        "    cv_scores.append(cv_score)\n",
        "\n",
        "# Write the results for different PCA components into an array\n",
        "cv_scores = np.array(cv_scores)\n"
      ],
      "metadata": {
        "id": "PBEHkF3L-9g1"
      },
      "execution_count": 69,
      "outputs": []
    },
    {
      "cell_type": "code",
      "source": [
        "print(cv_scores)"
      ],
      "metadata": {
        "colab": {
          "base_uri": "https://localhost:8080/"
        },
        "id": "8PwDbBO7GG5u",
        "outputId": "e7e75658-f286-4920-b9aa-359c1266c955"
      },
      "execution_count": 70,
      "outputs": [
        {
          "output_type": "stream",
          "name": "stdout",
          "text": [
            "[0.45824344 0.47712428 0.47515393 0.49601005 0.5049702  0.50992562\n",
            " 0.48807448 0.48309935 0.48111423 0.4870696  0.4850894  0.4830895\n",
            " 0.48311906 0.47913896 0.48705482 0.48014384 0.48011428 0.4781193\n",
            " 0.47912911]\n"
          ]
        }
      ]
    },
    {
      "cell_type": "markdown",
      "source": [
        "# EVALUATE"
      ],
      "metadata": {
        "id": "rDz5FcFLzsVd"
      }
    },
    {
      "cell_type": "code",
      "source": [
        "# Print classification report\n",
        "#print(classification_report(y_test, y_pred))"
      ],
      "metadata": {
        "colab": {
          "base_uri": "https://localhost:8080/"
        },
        "id": "TmrZhViQy09L",
        "outputId": "25275103-03ec-4d5f-d7e5-4dda45bdf666"
      },
      "execution_count": 51,
      "outputs": [
        {
          "output_type": "stream",
          "name": "stdout",
          "text": [
            "              precision    recall  f1-score   support\n",
            "\n",
            "           0       0.45      0.68      0.54        78\n",
            "           1       0.54      0.43      0.48       104\n",
            "           2       0.00      0.00      0.00        13\n",
            "           3       0.00      0.00      0.00         5\n",
            "           4       0.00      0.00      0.00         2\n",
            "\n",
            "    accuracy                           0.49       202\n",
            "   macro avg       0.20      0.22      0.20       202\n",
            "weighted avg       0.45      0.49      0.46       202\n",
            "\n"
          ]
        },
        {
          "output_type": "stream",
          "name": "stderr",
          "text": [
            "/usr/local/lib/python3.8/dist-packages/sklearn/metrics/_classification.py:1318: UndefinedMetricWarning: Precision and F-score are ill-defined and being set to 0.0 in labels with no predicted samples. Use `zero_division` parameter to control this behavior.\n",
            "  _warn_prf(average, modifier, msg_start, len(result))\n",
            "/usr/local/lib/python3.8/dist-packages/sklearn/metrics/_classification.py:1318: UndefinedMetricWarning: Precision and F-score are ill-defined and being set to 0.0 in labels with no predicted samples. Use `zero_division` parameter to control this behavior.\n",
            "  _warn_prf(average, modifier, msg_start, len(result))\n",
            "/usr/local/lib/python3.8/dist-packages/sklearn/metrics/_classification.py:1318: UndefinedMetricWarning: Precision and F-score are ill-defined and being set to 0.0 in labels with no predicted samples. Use `zero_division` parameter to control this behavior.\n",
            "  _warn_prf(average, modifier, msg_start, len(result))\n"
          ]
        }
      ]
    }
  ]
}
